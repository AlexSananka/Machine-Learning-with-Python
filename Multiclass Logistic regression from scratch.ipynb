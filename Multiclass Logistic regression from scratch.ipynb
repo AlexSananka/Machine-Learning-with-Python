{
 "cells": [
  {
   "cell_type": "code",
   "execution_count": 1,
   "metadata": {},
   "outputs": [],
   "source": [
    "import numpy as np"
   ]
  },
  {
   "cell_type": "code",
   "execution_count": 2,
   "metadata": {},
   "outputs": [],
   "source": [
    "class MultiClassLogistic:\n",
    "    \n",
    "    def __init__(self,lr=0.1,iter_=1000):\n",
    "        self.lr = lr\n",
    "        self.iter_ = iter_\n",
    "        \n",
    "    def fit(self, X, Y):\n",
    "        #Initialize the parameters\n",
    "        self.weight =[]\n",
    "        X = self.add_bias(X)\n",
    "        m,n = X.shape\n",
    "        \n",
    "        #loop over the classes\n",
    "        classes = np.unique(Y)\n",
    "        for c in classes:\n",
    "            y_new = np.where(Y == c, 1, 0)\n",
    "            w = np.ones(n)\n",
    "            \n",
    "            #loop over the number of iterations\n",
    "            for _ in range(self.iter_):\n",
    "                numerator_sig = np.dot(X, w)\n",
    "                diff = np.dot((y_new- self.sigmoid(numerator_sig)), X)\n",
    "                update = (self.lr * diff)/m\n",
    "                w = w + update\n",
    "            self.weight.append((w,c))\n",
    "        return self\n",
    "            \n",
    "    def sigmoid(self, X):\n",
    "        return 1/(1 + np.exp(-1 * X))\n",
    "    \n",
    "    def predict_one(self, x):\n",
    "        return max((x.dot(w), c) for w, c in self.weight)[1]\n",
    "    \n",
    "    def predict_all(self, X):\n",
    "        return [self.predict_one(i) for i in self.add_bias(X)]\n",
    "    \n",
    "    def accuracy(self, X, y):\n",
    "        return sum(self.predict_all(X) == y) / len(y)\n",
    "    \n",
    "    def add_bias(self, X):\n",
    "        return np.insert(X, 0, 1, axis=1)\n",
    "    "
   ]
  },
  {
   "cell_type": "code",
   "execution_count": 3,
   "metadata": {},
   "outputs": [
    {
     "name": "stdout",
     "output_type": "stream",
     "text": [
      "0.9583333333333334\n",
      "0.9333333333333333\n"
     ]
    }
   ],
   "source": [
    "from sklearn.model_selection import train_test_split\n",
    "from sklearn import datasets\n",
    "\n",
    "iris = datasets.load_iris()\n",
    "X_train, X_temp, y_train, y_temp = train_test_split(iris.data, iris.target, test_size=.2)\n",
    "X_validation, X_test, y_validation, y_test = train_test_split(X_temp, y_temp, test_size=.5)\n",
    "\n",
    "logi = MultiClassLogistic(iter_=1000).fit(X_train, y_train)\n",
    "\n",
    "print(logi.accuracy(X_train, y_train))\n",
    "print(logi.accuracy(X_validation, y_validation))"
   ]
  },
  {
   "cell_type": "code",
   "execution_count": null,
   "metadata": {},
   "outputs": [],
   "source": []
  }
 ],
 "metadata": {
  "kernelspec": {
   "display_name": "Python 3",
   "language": "python",
   "name": "python3"
  },
  "language_info": {
   "codemirror_mode": {
    "name": "ipython",
    "version": 3
   },
   "file_extension": ".py",
   "mimetype": "text/x-python",
   "name": "python",
   "nbconvert_exporter": "python",
   "pygments_lexer": "ipython3",
   "version": "3.7.3"
  }
 },
 "nbformat": 4,
 "nbformat_minor": 2
}
