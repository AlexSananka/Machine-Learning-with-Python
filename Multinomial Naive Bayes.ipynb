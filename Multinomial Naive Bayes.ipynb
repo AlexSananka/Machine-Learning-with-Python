{
 "cells": [
  {
   "cell_type": "code",
   "execution_count": 43,
   "metadata": {},
   "outputs": [],
   "source": [
    "import numpy as np"
   ]
  },
  {
   "cell_type": "code",
   "execution_count": 44,
   "metadata": {},
   "outputs": [],
   "source": [
    "class NaiveBayesClassifier:\n",
    "    \n",
    "    def __init__(self):\n",
    "        \n",
    "        #Initialize probabilities\n",
    "        self.phi_y = 0\n",
    "        self.phi_x = 0\n",
    "        \n",
    "        #computes the values of probability of y given a certain class\n",
    "    def Phi_y_generator(self, y):\n",
    "        self.classes = sorted(np.unique(y))\n",
    "        self.phi_y = np.zeros(len(self.classes))\n",
    "        for i in range(len(self.classes)):\n",
    "            self.phi_y[i] = (np.sum(y==i))/np.sum(len(y))\n",
    "        return self\n",
    "        \n",
    "        #computes the values of probability of x\\y\n",
    "    def Phi_x(self, y,x):\n",
    "        self.n = x.shape[1]\n",
    "        self.phi_x = np.zeros((self.n,len(self.classes)))\n",
    "\n",
    "        for word in range(0,self.n):\n",
    "\n",
    "            for c in self.classes:\n",
    "\n",
    "                self.phi_x[word,c] = ((np.sum((x[:,word]==1)*(y==c)))+1)/(np.sum(y==c)+self.n)\n",
    "\n",
    "\n",
    "        return self\n",
    "        \n",
    "        #fit the data\n",
    "    def fit(self,x_train,y_train):\n",
    "        self.Phi_y_generator(y_train)\n",
    "        self.Phi_x(y_train, x_train)\n",
    "        return self\n",
    "        \n",
    "        #this functon predicts values of target\n",
    "    def predict(self,  x_test):\n",
    "\n",
    "        m,n = x_test.shape\n",
    "        classes = np.arange(self.phi_x.shape[1])\n",
    "        result = np.zeros((m,len(classes)))\n",
    "\n",
    "        for i in range(m):\n",
    "\n",
    "            for c in classes:\n",
    "                x = x_test[i]\n",
    "                phi_x_c = self.phi_x[:,c]\n",
    "                phi_x_y = np.zeros_like(x,dtype=np.float64)\n",
    "                phi_x_y[x==1] = phi_x_c[x==1]\n",
    "                phi_x_y[x==0] = (1- phi_x_c)[x==0]\n",
    "                phi_y_c = self.phi_y[c]\n",
    "                result[i,c] = np.sum(np.log(phi_x_y))+np.log(phi_y_c)\n",
    "\n",
    "        return np.argmax(result,axis=1)\n"
   ]
  },
  {
   "cell_type": "code",
   "execution_count": null,
   "metadata": {},
   "outputs": [],
   "source": []
  }
 ],
 "metadata": {
  "kernelspec": {
   "display_name": "Python 3",
   "language": "python",
   "name": "python3"
  },
  "language_info": {
   "codemirror_mode": {
    "name": "ipython",
    "version": 3
   },
   "file_extension": ".py",
   "mimetype": "text/x-python",
   "name": "python",
   "nbconvert_exporter": "python",
   "pygments_lexer": "ipython3",
   "version": "3.7.3"
  }
 },
 "nbformat": 4,
 "nbformat_minor": 2
}
