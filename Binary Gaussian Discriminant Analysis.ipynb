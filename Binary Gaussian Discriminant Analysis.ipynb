{
 "cells": [
  {
   "cell_type": "code",
   "execution_count": 1,
   "metadata": {},
   "outputs": [],
   "source": [
    "from sklearn import datasets"
   ]
  },
  {
   "cell_type": "code",
   "execution_count": 2,
   "metadata": {},
   "outputs": [],
   "source": [
    "import numpy as np"
   ]
  },
  {
   "cell_type": "code",
   "execution_count": 3,
   "metadata": {},
   "outputs": [],
   "source": [
    "iris=datasets.load_iris()\n",
    "x = iris.data[:,(0,1,2,3)]  # we take the features\n",
    "y = (iris.target != 0) * 1 #we take two classes only\n",
    "m,n=x.shape"
   ]
  },
  {
   "cell_type": "code",
   "execution_count": 4,
   "metadata": {},
   "outputs": [],
   "source": [
    "def phi_generator(y):\n",
    "    return 1/(m)*sum(y==1)"
   ]
  },
  {
   "cell_type": "code",
   "execution_count": 5,
   "metadata": {},
   "outputs": [],
   "source": [
    "phi=phi_generator(y)"
   ]
  },
  {
   "cell_type": "code",
   "execution_count": 6,
   "metadata": {},
   "outputs": [],
   "source": [
    "def mu_generator(x,y,c):\n",
    "    return np.mean(x[y==c],0)"
   ]
  },
  {
   "cell_type": "code",
   "execution_count": 7,
   "metadata": {},
   "outputs": [],
   "source": [
    "u0=mu_generator(x,y,0)\n",
    "u1=mu_generator(x,y,1)"
   ]
  },
  {
   "cell_type": "code",
   "execution_count": 8,
   "metadata": {},
   "outputs": [],
   "source": [
    "def covariance_generator(x,y,u0,u1):\n",
    "    M=np.zeros_like(x) #initialize m\n",
    "    M[y==1]=u1\n",
    "    M[y==0]=u0\n",
    "    diff=x-M\n",
    "    cov=1/m*np.matmul(diff.T,diff)\n",
    "    return cov"
   ]
  },
  {
   "cell_type": "code",
   "execution_count": 9,
   "metadata": {},
   "outputs": [],
   "source": [
    "covariance=covariance_generator(x,y,u0,u1)"
   ]
  },
  {
   "cell_type": "code",
   "execution_count": 10,
   "metadata": {},
   "outputs": [],
   "source": [
    "def Prob_x_y(x,sigma,c):\n",
    "    if c==1:\n",
    "        u=u1\n",
    "    else:\n",
    "        u=u0\n",
    "    sigma_inv=np.linalg.inv(sigma)\n",
    "    A=x-u\n",
    "    \n",
    "    b=1/((2*np.pi)**(n/2)*np.sqrt(np.linalg.det(sigma)))\n",
    "    c=np.sum(-0.5*np.multiply(np.matmul(A,sigma_inv),A),axis=1)\n",
    "    d=np.exp(c)\n",
    "    return b*d"
   ]
  },
  {
   "cell_type": "code",
   "execution_count": 11,
   "metadata": {},
   "outputs": [
    {
     "name": "stdout",
     "output_type": "stream",
     "text": [
      "The accuracy of the training set is: 100.0 %\n"
     ]
    }
   ],
   "source": [
    "probx_y1=(Prob_x_y(x,covariance,1)*phi).reshape(-1,1)\n",
    "probx_y0=(Prob_x_y(x,covariance,0)*(1-phi)).reshape(-1,1)\n",
    "probxy=np.hstack([probx_y0,probx_y1])\n",
    "\n",
    "#compute the classes\n",
    "classes=np.argmax(probxy,axis=1)\n",
    "\n",
    "#calculate the accuracy\n",
    "print('The accuracy of the training set is:',np.mean(classes==y)*100,'%')"
   ]
  }
 ],
 "metadata": {
  "kernelspec": {
   "display_name": "Python 3",
   "language": "python",
   "name": "python3"
  },
  "language_info": {
   "codemirror_mode": {
    "name": "ipython",
    "version": 3
   },
   "file_extension": ".py",
   "mimetype": "text/x-python",
   "name": "python",
   "nbconvert_exporter": "python",
   "pygments_lexer": "ipython3",
   "version": "3.7.3"
  }
 },
 "nbformat": 4,
 "nbformat_minor": 2
}
