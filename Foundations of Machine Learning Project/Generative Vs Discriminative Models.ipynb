{
 "cells": [
  {
   "cell_type": "markdown",
   "metadata": {},
   "source": [
    "___\n",
    "\n",
    "\n",
    "<a href='https://aims.edu.gh/'> <img src='http://gh.nexteinstein.org/wp-content/uploads/sites/15/2016/09/logo.jpg' /></a>\n",
    "___\n",
    "# Foundations of Machine Learning \n",
    "\n",
    "## Generative and Discriminative Modelling Project\n",
    "\n",
    "The objective of this project is to compare the perfomance of Naive Bayes, Gaussian Discriminant Analysis and Logistic regression on different data sizes. A detailed descripion of the instructions is shown below.\n",
    "\n",
    "<img src=\"instructions.png\">\n"
   ]
  },
  {
   "cell_type": "markdown",
   "metadata": {},
   "source": [
    "## Import Libraries"
   ]
  },
  {
   "cell_type": "code",
   "execution_count": 1,
   "metadata": {},
   "outputs": [],
   "source": [
    "import pandas as pd\n",
    "import numpy as np\n",
    "from sklearn.utils import shuffle"
   ]
  },
  {
   "cell_type": "markdown",
   "metadata": {},
   "source": [
    "### Load data\n"
   ]
  },
  {
   "cell_type": "code",
   "execution_count": 2,
   "metadata": {},
   "outputs": [],
   "source": [
    "#import both traing and test\n",
    "drugs_train = pd.read_csv('drugLibTrain_raw.tsv',delimiter='\\t')\n",
    "drugs_test = pd.read_csv('drugLibTest_raw.tsv',delimiter='\\t')"
   ]
  },
  {
   "cell_type": "markdown",
   "metadata": {},
   "source": [
    "## Data pre-processing"
   ]
  },
  {
   "cell_type": "code",
   "execution_count": 3,
   "metadata": {},
   "outputs": [],
   "source": [
    "#drop first column of data as it is not important\n",
    "drugs_train = drugs_train.drop('Unnamed: 0',axis=1)\n",
    "drugs_test = drugs_test.drop('Unnamed: 0',axis=1)\n",
    "\n",
    "#combine both training and test and shuffle\n",
    "drugs_combined = pd.concat([drugs_train,drugs_test],axis=0)\n",
    "\n",
    "#Shuffle data to avoid any biasness\n",
    "drugs_combined = shuffle(drugs_combined, random_state = 1)"
   ]
  },
  {
   "cell_type": "code",
   "execution_count": 4,
   "metadata": {},
   "outputs": [],
   "source": [
    "target=drugs_combined['rating']\n",
    "target=target-1 #shift indices to start from zero\n",
    "target=target.values"
   ]
  },
  {
   "cell_type": "code",
   "execution_count": 5,
   "metadata": {},
   "outputs": [],
   "source": [
    "#features_full=drugs_combined['urlDrugName']+drugs_combined['effectiveness']+drugs_combined['sideEffects']+drugs_combined['condition']+drugs_combined['benefitsReview']+drugs_combined['sideEffectsReview']+drugs_combined['commentsReview']"
   ]
  },
  {
   "cell_type": "code",
   "execution_count": 33,
   "metadata": {},
   "outputs": [],
   "source": [
    "features_full=drugs_combined['effectiveness']+drugs_combined['sideEffects'] #using less variable"
   ]
  },
  {
   "cell_type": "code",
   "execution_count": 34,
   "metadata": {},
   "outputs": [],
   "source": [
    "features_full = features_full.apply(lambda x: str(x)) #convert all features to strings"
   ]
  },
  {
   "cell_type": "markdown",
   "metadata": {},
   "source": [
    "## Feature Extraction"
   ]
  },
  {
   "cell_type": "code",
   "execution_count": 35,
   "metadata": {},
   "outputs": [],
   "source": [
    "from sklearn.feature_extraction.text import CountVectorizer\n",
    "\n",
    "#create instance of countvectorizer \n",
    "vectorizer = CountVectorizer(stop_words='english',binary=True,max_features=350)\n",
    "\n",
    "#fit \n",
    "Transformed_features = vectorizer.fit_transform(features_full)\n",
    "\n",
    "#convert to pandas dataframe\n",
    "Transformed_data = pd.DataFrame(Transformed_features.toarray())\n",
    "\n",
    "# Add  the target variable\n",
    "Transformed_data['Target'] = target\n"
   ]
  },
  {
   "cell_type": "markdown",
   "metadata": {},
   "source": [
    "# Models Building"
   ]
  },
  {
   "cell_type": "markdown",
   "metadata": {},
   "source": [
    "In this section, we build three models from scratch. Two Generetative models (Naive Bayes and Gaussian Discriminant Analysis) and one discriminative model (Logistic regression)."
   ]
  },
  {
   "cell_type": "markdown",
   "metadata": {},
   "source": [
    "## Multinomial Naive Bayes"
   ]
  },
  {
   "cell_type": "code",
   "execution_count": 36,
   "metadata": {},
   "outputs": [],
   "source": [
    "class NaiveBayesClassifier:\n",
    "    \n",
    "    def __init__(self):\n",
    "        \n",
    "        #Initialize probabilities\n",
    "        self.phi_y = 0\n",
    "        self.phi_x = 0\n",
    "        \n",
    "        #computes the values of probability of y given a certain class\n",
    "    def Phi_y_generator(self, y):\n",
    "        self.classes = sorted(np.unique(y))\n",
    "        self.phi_y = np.zeros(len(self.classes))\n",
    "        for i in range(len(self.classes)):\n",
    "            self.phi_y[i] = (np.sum(y==i))/np.sum(len(y))\n",
    "        return self\n",
    "        \n",
    "        #computes the values of probability of x\\y\n",
    "    def Phi_x(self, y,x):\n",
    "        self.n = x.shape[1]\n",
    "        self.phi_x = np.zeros((self.n,len(self.classes)))\n",
    "\n",
    "        for word in range(0,self.n):\n",
    "\n",
    "            for c in self.classes:\n",
    "\n",
    "                self.phi_x[word,c] = ((np.sum((x[:,word]==1)*(y==c)))+1)/(np.sum(y==c)+self.n)\n",
    "\n",
    "\n",
    "        return self\n",
    "        \n",
    "        #fit the data\n",
    "    def fit(self,x_train,y_train):\n",
    "        self.Phi_y_generator(y_train)\n",
    "        self.Phi_x(y_train, x_train)\n",
    "        return self\n",
    "        \n",
    "        #this functon predicts values of target\n",
    "    def predict(self,  x_test):\n",
    "\n",
    "        m,n = x_test.shape\n",
    "        classes = np.arange(self.phi_x.shape[1])\n",
    "        result = np.zeros((m,len(classes)))\n",
    "\n",
    "        for i in range(m):\n",
    "\n",
    "            for c in classes:\n",
    "                x = x_test[i]\n",
    "                phi_x_c = self.phi_x[:,c]\n",
    "                phi_x_y = np.zeros_like(x,dtype=np.float64)\n",
    "                phi_x_y[x==1] = phi_x_c[x==1]\n",
    "                phi_x_y[x==0] = (1- phi_x_c)[x==0]\n",
    "                phi_y_c = self.phi_y[c]\n",
    "                result[i,c] = np.sum(np.log(phi_x_y))+np.log(phi_y_c)\n",
    "\n",
    "        return np.argmax(result,axis=1)\n"
   ]
  },
  {
   "cell_type": "markdown",
   "metadata": {},
   "source": [
    "## Multiclass logistic regression"
   ]
  },
  {
   "cell_type": "code",
   "execution_count": 37,
   "metadata": {},
   "outputs": [],
   "source": [
    "class MultiClassLogistic:\n",
    "    \n",
    "    def __init__(self,lr=0.1,iter_=1000):\n",
    "        self.lr = lr\n",
    "        self.iter_ = iter_\n",
    "        \n",
    "    def fit(self, X, Y):\n",
    "        #Initialize the parameters\n",
    "        self.weight =[]\n",
    "        X = self.add_bias(X)\n",
    "        m,n = X.shape\n",
    "        \n",
    "        #loop over the classes\n",
    "        classes = np.unique(Y)\n",
    "        for c in classes:\n",
    "            y_new = np.where(Y == c, 1, 0)\n",
    "            w = np.ones(n)\n",
    "            \n",
    "            #loop over the number of iterations\n",
    "            for _ in range(self.iter_):\n",
    "                numerator_sig = np.dot(X, w)\n",
    "                diff = np.dot((y_new- self.sigmoid(numerator_sig)), X)\n",
    "                update = (self.lr * diff)/m\n",
    "                w = w + update\n",
    "            self.weight.append((w,c))\n",
    "        return self\n",
    "            \n",
    "    def sigmoid(self, X):\n",
    "        return 1/(1 + np.exp(-1 * X))\n",
    "    \n",
    "    def predict_one(self, x):\n",
    "        return max((x.dot(w), c) for w, c in self.weight)[1]\n",
    "    \n",
    "    def predict_all(self, X):\n",
    "        return [self.predict_one(i) for i in self.add_bias(X)]\n",
    "    \n",
    "    def accuracy(self, X, y):\n",
    "        return sum(self.predict_all(X) == y) / len(y)\n",
    "    \n",
    "    def add_bias(self, X):\n",
    "        return np.insert(X, 0, 1, axis=1)\n",
    "    "
   ]
  },
  {
   "cell_type": "markdown",
   "metadata": {},
   "source": [
    "## Multiclass GDA"
   ]
  },
  {
   "cell_type": "code",
   "execution_count": 38,
   "metadata": {},
   "outputs": [],
   "source": [
    "class GDA_Classifier(object):  \n",
    "    \n",
    "    def __init__(self, epsilon = 0.001):\n",
    "        self.epsilon = epsilon #small value to solve non-invertible matrix issue\n",
    "    \n",
    "    def fit(self,X,y):\n",
    "        self.y = y\n",
    "        \n",
    "        self.miu = [np.sum(X[y==k],axis=0)/np.sum(y==k) for k in np.unique(y)]\n",
    "        \n",
    "        m = y.shape[0]\n",
    "        phi = [1/(m)*np.sum(y==k) for k in np.unique(y)]\n",
    "        self.phy = phi\n",
    "        \n",
    "        M = np.zeros_like(X)\n",
    "        \n",
    "        for k in np.unique(y):\n",
    "        \n",
    "            M[y==k] = self.miu[k]\n",
    "            \n",
    "        sigma =((X-M).T@(X-M)) / len(X)\n",
    "        self.sig = sigma\n",
    "        return self\n",
    "    \n",
    "    #compute probability of x|y\n",
    "    def prob_xy(self,X):\n",
    "        n = X.shape[0]\n",
    "        \n",
    "        probs=[]\n",
    "        \n",
    "        f1 = (2*np.pi)**(n/2)*((np.linalg.det(self.sig+self.epsilon*np.eye(n)))**0.5) \n",
    "        for k in np.unique(self.y):\n",
    "            f2 = ((X - self.miu[k])@ (np.linalg.inv(self.sig+self.epsilon*np.eye(n))))@(X - self.miu[k]).T\n",
    "            prob_x_y_k = (1/f1)*np.exp(- 0.5*f2)*self.phy[k]\n",
    "            \n",
    "            probs.append(prob_x_y_k)\n",
    "        return probs\n",
    "    \n",
    "    #function to make the predictions\n",
    "    def predict(self,X):\n",
    "        \n",
    "        predictions = []\n",
    "        for i in range(len(X)):\n",
    "            predictions.append(np.argmax(self.prob_xy(X[i])))\n",
    "        return predictions\n",
    "    "
   ]
  },
  {
   "cell_type": "markdown",
   "metadata": {},
   "source": [
    "## Models Evaluation"
   ]
  },
  {
   "cell_type": "markdown",
   "metadata": {},
   "source": [
    "There are several metrics to check so as to evaluate a model. However, in this project we only use accuracy as the main idea is to compare the performance of the models with different data sizes."
   ]
  },
  {
   "cell_type": "code",
   "execution_count": 50,
   "metadata": {},
   "outputs": [
    {
     "data": {
      "text/plain": [
       "[[0.4457831325301205, 0.4578313253012048, 0.4457831325301205],\n",
       " [0.46184738955823296, 0.43373493975903615, 0.46586345381526106],\n",
       " [0.45180722891566266, 0.44176706827309237, 0.43373493975903615],\n",
       " [0.4957780458383595, 0.45958986731001206, 0.48492159227985526]]"
      ]
     },
     "execution_count": 50,
     "metadata": {},
     "output_type": "execute_result"
    }
   ],
   "source": [
    "from sklearn.model_selection import train_test_split\n",
    "\n",
    "split_sizes = [.1, .3 ,.6, 1] #splits data on 10%, 30%, 60% and 100%\n",
    "accuracies = [[],[],[],[]]     #create list of list to store the accuracies\n",
    "\n",
    "#Loop over the split sizes and compute accuracies for all the models\n",
    "for i in range(len(split_sizes)):\n",
    "    #subset based on the split size\n",
    "    data_subset = Transformed_data.sample(frac=split_sizes[i],random_state=0)\n",
    "    X = data_subset.drop('Target',axis=1)\n",
    "    y = data_subset.Target\n",
    "    \n",
    "    #split data into validaton and training\n",
    "    X_train, X_test, y_train, y_test = train_test_split(X, y, test_size = 0.2, random_state = 0)\n",
    "    \n",
    "    #convert dataframe to numpy_arrays\n",
    "    X_train = np.array(X_train)\n",
    "    y_train = np.array(y_train)\n",
    "    X_test = np.array(X_test)\n",
    "    y_test = np.array(y_test)\n",
    "    \n",
    "    #create instances\n",
    "    Naive = NaiveBayesClassifier().fit(X_train, y_train)\n",
    "    GDA = GDA_Classifier().fit(X_train,y_train)\n",
    "    Logistic = MultiClassLogistic().fit(X_train,y_train)\n",
    "\n",
    "    \n",
    "    #predict and store accuracy in a list\n",
    "    predictions_naive = Naive.predict(x_test=X_test)\n",
    "    accuracy_naive = np.mean(predictions_naive==y_test)\n",
    "    accuracies[i].append(accuracy_naive)\n",
    "    \n",
    "    gda_predictions = GDA.predict(X_test)\n",
    "    accuracy_gda = np.mean(gda_predictions==y_test)\n",
    "    accuracies[i].append(accuracy_gda)\n",
    "    \n",
    "    predictions_logistic = Logistic.predict_all(X_test)\n",
    "    accuracy_logistic = Logistic.accuracy(X_test, y_test)\n",
    "    accuracies[i].append(accuracy_logistic)\n",
    "accuracies"
   ]
  },
  {
   "cell_type": "markdown",
   "metadata": {},
   "source": [
    "### Visualize the perfomance of the models"
   ]
  },
  {
   "cell_type": "code",
   "execution_count": 51,
   "metadata": {},
   "outputs": [
    {
     "data": {
      "image/png": "[encoded data removed]",
      "text/plain": [
       "<Figure size 864x432 with 1 Axes>"
      ]
     },
     "metadata": {
      "needs_background": "light"
     },
     "output_type": "display_data"
    }
   ],
   "source": [
    "import matplotlib.pyplot as plt\n",
    "\n",
    "#Names of models\n",
    "labels = ['Naive Bayes', 'GDA', 'Logistic']\n",
    "\n",
    "x = np.arange(len(labels))  # the label locations\n",
    "width = 0.20  # the width of the bars\n",
    "\n",
    "#set up the figure\n",
    "fig = plt.figure(figsize=(12,6))\n",
    "ax = fig.add_axes([0,0,1,1])\n",
    "\n",
    "rects1 = ax.bar(x + 0.00, accuracies[0], width,color = 'b', label='10%')\n",
    "rects2 = ax.bar(x + .20, accuracies[1], width, color = 'g',label='30%')\n",
    "rects3 = ax.bar(x + .40, accuracies[2], width, color = 'r',label='60%')\n",
    "rects4 = ax.bar(x + .60, accuracies[3], width, color = 'k',label='100%')\n",
    "\n",
    "# Add some text for labels, title and custom x-axis tick labels, etc.\n",
    "ax.set_ylabel('Accuracy')\n",
    "ax.set_title('Accuracy by Model and data size')\n",
    "ax.set_xticks(x)\n",
    "ax.set_xticklabels(labels)\n",
    "ax.legend(loc=0)\n",
    "\n",
    "plt.show()"
   ]
  },
  {
   "cell_type": "markdown",
   "metadata": {},
   "source": [
    "## Remarks"
   ]
  },
  {
   "cell_type": "markdown",
   "metadata": {},
   "source": [
    "Generative models\n",
    "  - GDA p(x|y)\n",
    "  - Naive Bayes p(x|y)\n",
    "  \n",
    "Discriminative model\n",
    "  - Logistic p(y|x)\n",
    "\n",
    "\n",
    "GDA works best if the assumption that the features follow a gaussian distribution  hold.\n",
    "\n",
    "GDA makes stronger modelling assumptions and requires less training data to learn if these modelling assumptions are correct.\n",
    "\n",
    "Logistic regression makes weaker assumptions. In case the data is non-Gaussian, logistic works better\n"
   ]
  },
  {
   "cell_type": "markdown",
   "metadata": {},
   "source": [
    "## Conclusions"
   ]
  },
  {
   "cell_type": "markdown",
   "metadata": {},
   "source": [
    "Using all the features do not make our models predictive in any way, it rather makes them perform poorly in terms of accuracy.\n",
    "\n",
    "GDA seems to perform better when the data is 10%. Suprisingly, Naive Bayes and Logistic regression have simillar results when we use 10% of the data. \n",
    "\n",
    "It seems like the is no single model that gives outstanding results compared to the others. bIn all the models, the perfomance improves as the data increases.\n",
    "\n",
    "We can say that GDA is less sensitive to data size while logistic shows that its perfomance is affected by data.\n",
    "\n",
    "From the observations, the data does not follow a gaussian distribution and hence GDA does not show better results.\n",
    "\n",
    "Because of the weaker assumptions of logistic regression, it perfoms better compared to GDA  when provided with a good amount of data.\n",
    "\n",
    "\n",
    "In general, we see that the generative models (i.e Naive Bayes and GDA) are less data sensitive. However, the fact that they need less data to learn is not clearly seen. One reason could be the fact that these models make strong assumptions on the data and the assumptions do not hold.\n",
    "\n",
    "\n"
   ]
  }
 ],
 "metadata": {
  "kernelspec": {
   "display_name": "Python 3",
   "language": "python",
   "name": "python3"
  },
  "language_info": {
   "codemirror_mode": {
    "name": "ipython",
    "version": 3
   },
   "file_extension": ".py",
   "mimetype": "text/x-python",
   "name": "python",
   "nbconvert_exporter": "python",
   "pygments_lexer": "ipython3",
   "version": "3.7.3"
  }
 },
 "nbformat": 4,
 "nbformat_minor": 2
}
