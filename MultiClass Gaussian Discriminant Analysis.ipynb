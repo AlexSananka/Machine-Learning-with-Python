{
 "cells": [
  {
   "cell_type": "code",
   "execution_count": 3,
   "metadata": {},
   "outputs": [],
   "source": [
    "import numpy as np"
   ]
  },
  {
   "cell_type": "code",
   "execution_count": 4,
   "metadata": {},
   "outputs": [],
   "source": [
    "class GDA_Classifier(object):  \n",
    "    \n",
    "    def __init__(self, epsilon = 0.001):\n",
    "        self.epsilon = epsilon #small value to solve non-invertible matrix issue\n",
    "    \n",
    "    def fit(self,X,y):\n",
    "        self.y = y\n",
    "        \n",
    "        self.miu = [np.sum(X[y==k],axis=0)/np.sum(y==k) for k in np.unique(y)]\n",
    "        \n",
    "        m = y.shape[0]\n",
    "        phi = [1/(m)*np.sum(y==k) for k in np.unique(y)]\n",
    "        self.phy = phi\n",
    "        \n",
    "        M = np.zeros_like(X)\n",
    "        \n",
    "        for k in np.unique(y):\n",
    "        \n",
    "            M[y==k] = self.miu[k]\n",
    "            \n",
    "        sigma =((X-M).T@(X-M)) / len(X)\n",
    "        self.sig = sigma\n",
    "        return self\n",
    "    \n",
    "    #compute probability of x|y\n",
    "    def prob_xy(self,X):\n",
    "        n = X.shape[0]\n",
    "        \n",
    "        probs=[]\n",
    "        \n",
    "        f1 = (2*np.pi)**(n/2)*((np.linalg.det(self.sig+self.epsilon*np.eye(n)))**0.5) \n",
    "        for k in np.unique(self.y):\n",
    "            f2 = ((X - self.miu[k])@ (np.linalg.inv(self.sig+self.epsilon*np.eye(n))))@(X - self.miu[k]).T\n",
    "            prob_x_y_k = (1/f1)*np.exp(- 0.5*f2)*self.phy[k]\n",
    "            \n",
    "            probs.append(prob_x_y_k)\n",
    "        return probs\n",
    "    \n",
    "    #function to make the predictions\n",
    "    def predict(self,X):\n",
    "        \n",
    "        predictions = []\n",
    "        for i in range(len(X)):\n",
    "            predictions.append(np.argmax(self.prob_xy(X[i])))\n",
    "        return predictions\n",
    "    "
   ]
  },
  {
   "cell_type": "code",
   "execution_count": null,
   "metadata": {},
   "outputs": [],
   "source": []
  }
 ],
 "metadata": {
  "kernelspec": {
   "display_name": "Python 3",
   "language": "python",
   "name": "python3"
  },
  "language_info": {
   "codemirror_mode": {
    "name": "ipython",
    "version": 3
   },
   "file_extension": ".py",
   "mimetype": "text/x-python",
   "name": "python",
   "nbconvert_exporter": "python",
   "pygments_lexer": "ipython3",
   "version": "3.7.3"
  }
 },
 "nbformat": 4,
 "nbformat_minor": 2
}
